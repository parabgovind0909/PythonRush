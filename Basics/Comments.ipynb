{
  "nbformat": 4,
  "nbformat_minor": 0,
  "metadata": {
    "colab": {
      "provenance": [],
      "authorship_tag": "ABX9TyPVYT6HEE2BAvUCFjPAP6vj",
      "include_colab_link": true
    },
    "kernelspec": {
      "name": "python3",
      "display_name": "Python 3"
    },
    "language_info": {
      "name": "python"
    }
  },
  "cells": [
    {
      "cell_type": "markdown",
      "metadata": {
        "id": "view-in-github",
        "colab_type": "text"
      },
      "source": [
        "<a href=\"https://colab.research.google.com/github/parabgovind0909/PythonRush/blob/main/Basics/Comments.ipynb\" target=\"_parent\"><img src=\"https://colab.research.google.com/assets/colab-badge.svg\" alt=\"Open In Colab\"/></a>"
      ]
    },
    {
      "cell_type": "markdown",
      "source": [
        "# Comments in Python\n",
        "Comments in Python are used to explain code, make it more readable, and to prevent execution of specific lines of code. They are not executed by the Python interpreter, which means they do not affect the output of the program.\n",
        "</br>\n",
        "**Types of Comments in Python**\n",
        "</br>\n",
        "1. Single-line Comments\n",
        "2. Multi-line Comments\n",
        "3. Docstrings\n",
        "\n",
        "</br>\n",
        "Single-line Comments\n",
        "</br>\n",
        "A single-line comment starts with a # symbol and extends to the end of the line. Everything following the # on that line is ignored by the Python interpreter.\n",
        "</br>\n",
        "</br>\n",
        "Multi-line Comments\n",
        "</br>\n",
        "Python does not have a specific syntax for multi-line comments like some other languages. Instead, you can use multiple single-line comments, or use triple quotes (either ''' or \"\"\") to write a comment block. However, technically, triple-quoted strings are treated as string literals, not comments. If not assigned to a variable or used, they are ignored.\n",
        "</br>\n",
        "</br>\n",
        "Docstrings\n",
        "</br>\n",
        "Docstrings are a special kind of comment used to document modules, classes, functions, and methods. They are written as the first statement inside a function, method, class, or module using triple quotes (''' or \"\"\"). Unlike regular comments, docstrings are retained at runtime and can be accessed via the __doc__ attribute."
      ],
      "metadata": {
        "id": "KQwVFXTkuZ_w"
      }
    },
    {
      "cell_type": "code",
      "execution_count": null,
      "metadata": {
        "id": "22p-3dyBobiR",
        "colab": {
          "base_uri": "https://localhost:8080/"
        },
        "outputId": "dd1a9a99-9704-4f2f-c257-432e4286d50a"
      },
      "outputs": [
        {
          "output_type": "stream",
          "name": "stdout",
          "text": [
            "Hello, World!\n"
          ]
        }
      ],
      "source": [
        "# This is a single-line comment\n",
        "print(\"Hello, World!\")  # This is an inline comment"
      ]
    },
    {
      "cell_type": "code",
      "source": [
        "# This is a multi-line comment\n",
        "# It spans multiple lines\n",
        "# Each line starts with a '#'\n",
        "\n",
        "\n",
        "'''\n",
        "This is a multi-line comment\n",
        "It spans multiple lines\n",
        "Using triple quotes\n",
        "Note - If the triple-quoted block is not assigned to a variable, it is ignored by the interpreter.\n",
        "'''\n",
        "print(\"Hello, World!\")"
      ],
      "metadata": {
        "colab": {
          "base_uri": "https://localhost:8080/"
        },
        "id": "r6Ohq7VPs7I4",
        "outputId": "ee35dbfc-a304-45e6-ee56-a4f22a3518d9"
      },
      "execution_count": null,
      "outputs": [
        {
          "output_type": "stream",
          "name": "stdout",
          "text": [
            "Hello, World!\n"
          ]
        }
      ]
    },
    {
      "cell_type": "code",
      "source": [
        "def add(a, b):\n",
        "    \"\"\"\n",
        "    This function adds two numbers.\n",
        "    Arguments:\n",
        "    a -- first number\n",
        "    b -- second number\n",
        "    Returns:\n",
        "    Sum of a and b\n",
        "    \"\"\"\n",
        "    return a + b\n",
        "\n",
        "print(add.__doc__)  # Prints the docstring of the function"
      ],
      "metadata": {
        "colab": {
          "base_uri": "https://localhost:8080/"
        },
        "id": "6K0-sdyOuxwm",
        "outputId": "f2450c58-b167-440c-a047-0cbfee6ccecb"
      },
      "execution_count": null,
      "outputs": [
        {
          "output_type": "stream",
          "name": "stdout",
          "text": [
            "\n",
            "    This function adds two numbers.\n",
            "    Arguments:\n",
            "    a -- first number\n",
            "    b -- second number\n",
            "    Returns:\n",
            "    Sum of a and b\n",
            "    \n"
          ]
        }
      ]
    }
  ]
}